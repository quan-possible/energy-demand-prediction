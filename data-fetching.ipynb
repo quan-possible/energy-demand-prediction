{
 "cells": [
  {
   "cell_type": "markdown",
   "metadata": {},
   "source": [
    "# Fetching Data"
   ]
  },
  {
   "cell_type": "code",
   "execution_count": 7,
   "metadata": {},
   "outputs": [],
   "source": [
    "import numpy as np\n",
    "import pandas as pd\n",
    "import concurrent.futures\n",
    "import requests\n",
    "import time\n",
    "from functools import partial\n",
    "from datetime import datetime\n",
    "import os"
   ]
  },
  {
   "cell_type": "code",
   "execution_count": 8,
   "metadata": {},
   "outputs": [],
   "source": [
    "def toDatetime(record):\n",
    "    \"\"\"\n",
    "    Convert formatted date-time text into timestamp. \n",
    "    It is specifically tailored to the API.\n",
    "    \"\"\"\n",
    "    timestamp = record['timestamp']\n",
    "    record['timestamp'] = datetime.strptime(timestamp, \"%Y-%m-%dT%H:%M:%S\")\n",
    "    return record\n",
    "\n",
    "def getData(startTime, endTime , freq=\"Daily\"):\n",
    "    \"\"\"\n",
    "    Convert formatted date-time text into timestamp.\n",
    "    This is specifically tailored to the source of data\n",
    "    \n",
    "    Keyword arguments:\n",
    "    startTime -- the starting date of the period you wish to fetch (YYYY-MM-DD)\n",
    "    endTime -- the ending date of the period you wish to fetch (YYYY-MM-DD)\n",
    "    freq -- the frequency of data (Hourly/Daily/...)\n",
    "    \"\"\"\n",
    "    reportingGroups = [\"Electricity\"]\n",
    "    locationsLink = 'https://helsinki-openapi.nuuka.cloud/api/v1.0/Property/List'\n",
    "    locationsRequest = requests.get(locationsLink) # initialize api\n",
    "    locationsRequest.raise_for_status() # get data from api\n",
    "    locations = pd.DataFrame.from_dict(locationsRequest.json())\n",
    "    locations = locations['locationName']\n",
    "    data = []\n",
    "    dataLink = (f\"https://helsinki-openapi.nuuka.cloud/api/v1.0/\"\n",
    "                f\"EnergyData/{freq}/ListByProperty\")\n",
    "    \n",
    "    # Helper function for concurrency \n",
    "    def request(group, location):\n",
    "        payload = {'StartTime': startTime, 'EndTime': endTime}\n",
    "        payload.update({'ReportingGroup': group})\n",
    "        payload.update({'SearchString': location.split(' ', 1)[0]})\n",
    "        r = requests.get(dataLink, payload)\n",
    "        if r.status_code == requests.codes.ok:\n",
    "            data_dict = r.json()\n",
    "            for record in data_dict:\n",
    "                toDatetime(record)\n",
    "            data.extend(data_dict)\n",
    "    \n",
    "    # The final step - getting the data.\n",
    "    for g in reportingGroups:\n",
    "        with concurrent.futures.ThreadPoolExecutor() as executor:\n",
    "            executor.map(partial(request, g), locations)\n",
    "    # for each \"thread\", execute \"request\" function on each location\n",
    "    return pd.DataFrame(data)\n"
   ]
  },
  {
   "cell_type": "code",
   "execution_count": 9,
   "metadata": {},
   "outputs": [
    {
     "name": "stdout",
     "output_type": "stream",
     "text": [
      "Finished in 72.33211269999993 second(s)\n"
     ]
    }
   ],
   "source": [
    "# Request the data from the API.\n",
    "# Note: You can only make 5000 API requests per hour.\n",
    "start = time.perf_counter()\n",
    "# You can specify the \n",
    "ts = getData('2017-01-01', '2020-01-01', freq = 'Daily') \n",
    "finish = time.perf_counter()\n",
    "print(f'Finished in {finish-start} second(s)')\n",
    "\n",
    "# Export the Dataframe to a .csv file\n",
    "file_name = 'hourly.csv' # change this to the respective frequency of the data\n",
    "ts.to_csv(file_name)"
   ]
  }
 ],
 "metadata": {
  "kernelspec": {
   "display_name": "Python 3",
   "language": "python",
   "name": "python3"
  },
  "language_info": {
   "codemirror_mode": {
    "name": "ipython",
    "version": 3
   },
   "file_extension": ".py",
   "mimetype": "text/x-python",
   "name": "python",
   "nbconvert_exporter": "python",
   "pygments_lexer": "ipython3",
   "version": "3.7.4"
  }
 },
 "nbformat": 4,
 "nbformat_minor": 4
}
