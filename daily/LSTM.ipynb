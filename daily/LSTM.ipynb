{
 "cells": [
  {
   "cell_type": "markdown",
   "metadata": {},
   "source": [
    "# Table of contents\n",
    "\n",
    "1. [LSTM](#1.)\n",
    "    1. [Feature Engineering](#1.1.)\n",
    "        1. [Holidays Data Generation](#1.1.1.)\n",
    "        2. [Cyclical feature encoding](#1.1.2.)\n",
    "        3. [Feature Vector Normalization](#1.1.3.)\n",
    "    2. [Modeling](#1.2.)\n",
    "3. [Further Readings](#2.)"
   ]
  },
  {
   "cell_type": "markdown",
   "metadata": {},
   "source": [
    "# LSTM <a class=\"anchor\" id=\"1.\"></a>"
   ]
  },
  {
   "cell_type": "code",
   "execution_count": 1,
   "metadata": {},
   "outputs": [],
   "source": [
    "import numpy as np\n",
    "import pandas as pd\n",
    "import torch\n",
    "import seaborn as sns\n",
    "import datetime # manipulating date formats\n",
    "import holidays\n",
    "import IPython\n",
    "import IPython.display\n",
    "\n",
    "\n",
    "from matplotlib import pyplot as plt\n",
    "from sklearn.metrics import mean_squared_error as MSE, r2_score\n",
    "from torch.autograd import Variable\n",
    "\n",
    "# settings\n",
    "plt.style.use('seaborn-deep')"
   ]
  },
  {
   "cell_type": "code",
   "execution_count": 2,
   "metadata": {},
   "outputs": [
    {
     "data": {
      "text/html": [
       "<div>\n",
       "<style scoped>\n",
       "    .dataframe tbody tr th:only-of-type {\n",
       "        vertical-align: middle;\n",
       "    }\n",
       "\n",
       "    .dataframe tbody tr th {\n",
       "        vertical-align: top;\n",
       "    }\n",
       "\n",
       "    .dataframe thead th {\n",
       "        text-align: right;\n",
       "    }\n",
       "</style>\n",
       "<table border=\"1\" class=\"dataframe\">\n",
       "  <thead>\n",
       "    <tr style=\"text-align: right;\">\n",
       "      <th></th>\n",
       "      <th>kWh</th>\n",
       "    </tr>\n",
       "    <tr>\n",
       "      <th>Date</th>\n",
       "      <th></th>\n",
       "    </tr>\n",
       "  </thead>\n",
       "  <tbody>\n",
       "    <tr>\n",
       "      <th>2017-01-01</th>\n",
       "      <td>399131.94</td>\n",
       "    </tr>\n",
       "    <tr>\n",
       "      <th>2017-01-02</th>\n",
       "      <td>545259.57</td>\n",
       "    </tr>\n",
       "    <tr>\n",
       "      <th>2017-01-03</th>\n",
       "      <td>557400.78</td>\n",
       "    </tr>\n",
       "    <tr>\n",
       "      <th>2017-01-04</th>\n",
       "      <td>557394.31</td>\n",
       "    </tr>\n",
       "    <tr>\n",
       "      <th>2017-01-05</th>\n",
       "      <td>554266.71</td>\n",
       "    </tr>\n",
       "    <tr>\n",
       "      <th>2017-01-06</th>\n",
       "      <td>484772.87</td>\n",
       "    </tr>\n",
       "    <tr>\n",
       "      <th>2017-01-07</th>\n",
       "      <td>448601.37</td>\n",
       "    </tr>\n",
       "    <tr>\n",
       "      <th>2017-01-08</th>\n",
       "      <td>433151.95</td>\n",
       "    </tr>\n",
       "    <tr>\n",
       "      <th>2017-01-09</th>\n",
       "      <td>638036.96</td>\n",
       "    </tr>\n",
       "    <tr>\n",
       "      <th>2017-01-10</th>\n",
       "      <td>643576.43</td>\n",
       "    </tr>\n",
       "    <tr>\n",
       "      <th>2017-01-11</th>\n",
       "      <td>650593.56</td>\n",
       "    </tr>\n",
       "    <tr>\n",
       "      <th>2017-01-12</th>\n",
       "      <td>651238.83</td>\n",
       "    </tr>\n",
       "    <tr>\n",
       "      <th>2017-01-13</th>\n",
       "      <td>634385.81</td>\n",
       "    </tr>\n",
       "    <tr>\n",
       "      <th>2017-01-14</th>\n",
       "      <td>451726.03</td>\n",
       "    </tr>\n",
       "    <tr>\n",
       "      <th>2017-01-15</th>\n",
       "      <td>436402.37</td>\n",
       "    </tr>\n",
       "  </tbody>\n",
       "</table>\n",
       "</div>"
      ],
      "text/plain": [
       "                  kWh\n",
       "Date                 \n",
       "2017-01-01  399131.94\n",
       "2017-01-02  545259.57\n",
       "2017-01-03  557400.78\n",
       "2017-01-04  557394.31\n",
       "2017-01-05  554266.71\n",
       "2017-01-06  484772.87\n",
       "2017-01-07  448601.37\n",
       "2017-01-08  433151.95\n",
       "2017-01-09  638036.96\n",
       "2017-01-10  643576.43\n",
       "2017-01-11  650593.56\n",
       "2017-01-12  651238.83\n",
       "2017-01-13  634385.81\n",
       "2017-01-14  451726.03\n",
       "2017-01-15  436402.37"
      ]
     },
     "execution_count": 2,
     "metadata": {},
     "output_type": "execute_result"
    }
   ],
   "source": [
    "ts = pd.read_csv(\"cleaned-daily.csv\", parse_dates = ['Date'])\n",
    "ts = ts.set_index('Date')[[\"kWh\"]].sort_index().asfreq('d')\n",
    "ts.head(15)"
   ]
  },
  {
   "cell_type": "code",
   "execution_count": 3,
   "metadata": {},
   "outputs": [
    {
     "data": {
      "text/plain": [
       "<AxesSubplot:xlabel='Date'>"
      ]
     },
     "execution_count": 3,
     "metadata": {},
     "output_type": "execute_result"
    },
    {
     "data": {
      "image/png": "[encoded data removed]",
      "text/plain": [
       "<Figure size 720x360 with 1 Axes>"
      ]
     },
     "metadata": {
      "needs_background": "light"
     },
     "output_type": "display_data"
    }
   ],
   "source": [
    "ts.plot(figsize=(10,5),style=\"o\")"
   ]
  },
  {
   "cell_type": "markdown",
   "metadata": {},
   "source": [
    "## Feature Engineering <a class=\"anchor\" id=\"1.1.\"></a>\n",
    "\n",
    "By preparing the data well in advance, we can help simplify models and improve their performance by a great extent with comparatively little effort. This means to come up with better representations of data or adding more useful information, i.e. to engineer features."
   ]
  },
  {
   "cell_type": "markdown",
   "metadata": {},
   "source": [
    "### Holidays Data Generation <a class=\"anchor\" id=\"1.1.1.\"></a>\n",
    "\n",
    "To get started, the exogenous 'holiday' variable can be reused entirely from the SARIMAX model."
   ]
  },
  {
   "cell_type": "code",
   "execution_count": 4,
   "metadata": {},
   "outputs": [
    {
     "data": {
      "text/html": [
       "<div>\n",
       "<style scoped>\n",
       "    .dataframe tbody tr th:only-of-type {\n",
       "        vertical-align: middle;\n",
       "    }\n",
       "\n",
       "    .dataframe tbody tr th {\n",
       "        vertical-align: top;\n",
       "    }\n",
       "\n",
       "    .dataframe thead th {\n",
       "        text-align: right;\n",
       "    }\n",
       "</style>\n",
       "<table border=\"1\" class=\"dataframe\">\n",
       "  <thead>\n",
       "    <tr style=\"text-align: right;\">\n",
       "      <th></th>\n",
       "      <th>kWh</th>\n",
       "      <th>holidays</th>\n",
       "    </tr>\n",
       "    <tr>\n",
       "      <th>Date</th>\n",
       "      <th></th>\n",
       "      <th></th>\n",
       "    </tr>\n",
       "  </thead>\n",
       "  <tbody>\n",
       "    <tr>\n",
       "      <th>2017-01-01</th>\n",
       "      <td>399131.94</td>\n",
       "      <td>1</td>\n",
       "    </tr>\n",
       "    <tr>\n",
       "      <th>2017-01-02</th>\n",
       "      <td>545259.57</td>\n",
       "      <td>0</td>\n",
       "    </tr>\n",
       "    <tr>\n",
       "      <th>2017-01-03</th>\n",
       "      <td>557400.78</td>\n",
       "      <td>0</td>\n",
       "    </tr>\n",
       "    <tr>\n",
       "      <th>2017-01-04</th>\n",
       "      <td>557394.31</td>\n",
       "      <td>0</td>\n",
       "    </tr>\n",
       "    <tr>\n",
       "      <th>2017-01-05</th>\n",
       "      <td>554266.71</td>\n",
       "      <td>0</td>\n",
       "    </tr>\n",
       "    <tr>\n",
       "      <th>...</th>\n",
       "      <td>...</td>\n",
       "      <td>...</td>\n",
       "    </tr>\n",
       "    <tr>\n",
       "      <th>2019-12-28</th>\n",
       "      <td>490973.42</td>\n",
       "      <td>0</td>\n",
       "    </tr>\n",
       "    <tr>\n",
       "      <th>2019-12-29</th>\n",
       "      <td>470181.83</td>\n",
       "      <td>0</td>\n",
       "    </tr>\n",
       "    <tr>\n",
       "      <th>2019-12-30</th>\n",
       "      <td>550293.99</td>\n",
       "      <td>0</td>\n",
       "    </tr>\n",
       "    <tr>\n",
       "      <th>2019-12-31</th>\n",
       "      <td>552242.62</td>\n",
       "      <td>0</td>\n",
       "    </tr>\n",
       "    <tr>\n",
       "      <th>2020-01-01</th>\n",
       "      <td>490577.95</td>\n",
       "      <td>1</td>\n",
       "    </tr>\n",
       "  </tbody>\n",
       "</table>\n",
       "<p>1096 rows × 2 columns</p>\n",
       "</div>"
      ],
      "text/plain": [
       "                  kWh  holidays\n",
       "Date                           \n",
       "2017-01-01  399131.94         1\n",
       "2017-01-02  545259.57         0\n",
       "2017-01-03  557400.78         0\n",
       "2017-01-04  557394.31         0\n",
       "2017-01-05  554266.71         0\n",
       "...               ...       ...\n",
       "2019-12-28  490973.42         0\n",
       "2019-12-29  470181.83         0\n",
       "2019-12-30  550293.99         0\n",
       "2019-12-31  552242.62         0\n",
       "2020-01-01  490577.95         1\n",
       "\n",
       "[1096 rows x 2 columns]"
      ]
     },
     "execution_count": 4,
     "metadata": {},
     "output_type": "execute_result"
    }
   ],
   "source": [
    "import holidays\n",
    "\n",
    "begin = '2017-01-01'\n",
    "end = '2019-12-31' # errors within the holidays package\n",
    "hol = pd.to_datetime(holidays.CountryHoliday('Finland')[begin:end])\n",
    "\n",
    "exo = ts.copy()\n",
    "exo[\"holidays\"] = 0\n",
    "exo.loc[hol] = 1\n",
    "exo.loc[\"2020-01-01\",\"holidays\"] = 1\n",
    "\n",
    "ts[\"holidays\"] = exo[\"holidays\"]\n",
    "ts"
   ]
  },
  {
   "cell_type": "markdown",
   "metadata": {},
   "source": [
    "### Cyclical feature encoding <a class=\"anchor\" id=\"1.1.2.\"></a>\n",
    "\n",
    "The separate datetime data on its own is not very useful to the learning task. Therefore, we need a way to encode the periodicity of the time series from our knowledge into the data. This can be achieved by modelling time as a circular scale, which is simply mapping the date time values using trigonometric functions."
   ]
  },
  {
   "cell_type": "code",
   "execution_count": 5,
   "metadata": {},
   "outputs": [],
   "source": [
    "date = ts.index\n",
    "timestamp_s = date.map(datetime.datetime.timestamp)"
   ]
  },
  {
   "cell_type": "code",
   "execution_count": 6,
   "metadata": {},
   "outputs": [],
   "source": [
    "week = 7*24*60*60\n",
    "ts['Week sin'] = np.sin(timestamp_s * (2 * np.pi / week))\n",
    "ts['Week cos'] = np.cos(timestamp_s * (2 * np.pi / week))"
   ]
  },
  {
   "cell_type": "code",
   "execution_count": 7,
   "metadata": {},
   "outputs": [
    {
     "data": {
      "text/plain": [
       "Text(0.5, 1.0, 'Time of week signal')"
      ]
     },
     "execution_count": 7,
     "metadata": {},
     "output_type": "execute_result"
    },
    {
     "data": {
      "image/png": "[encoded data removed]",
      "text/plain": [
       "<Figure size 432x288 with 1 Axes>"
      ]
     },
     "metadata": {
      "needs_background": "light"
     },
     "output_type": "display_data"
    }
   ],
   "source": [
    "plt.plot(np.array(ts['Week sin'])[:22])\n",
    "plt.plot(np.array(ts['Week cos'])[:22])\n",
    "\n",
    "plt.xlabel('Time [d]')\n",
    "plt.title('Time of week signal')"
   ]
  },
  {
   "cell_type": "code",
   "execution_count": 8,
   "metadata": {},
   "outputs": [
    {
     "data": {
      "text/html": [
       "<div>\n",
       "<style scoped>\n",
       "    .dataframe tbody tr th:only-of-type {\n",
       "        vertical-align: middle;\n",
       "    }\n",
       "\n",
       "    .dataframe tbody tr th {\n",
       "        vertical-align: top;\n",
       "    }\n",
       "\n",
       "    .dataframe thead th {\n",
       "        text-align: right;\n",
       "    }\n",
       "</style>\n",
       "<table border=\"1\" class=\"dataframe\">\n",
       "  <thead>\n",
       "    <tr style=\"text-align: right;\">\n",
       "      <th></th>\n",
       "      <th>kWh</th>\n",
       "      <th>holidays</th>\n",
       "      <th>Week sin</th>\n",
       "      <th>Week cos</th>\n",
       "    </tr>\n",
       "    <tr>\n",
       "      <th>Date</th>\n",
       "      <th></th>\n",
       "      <th></th>\n",
       "      <th></th>\n",
       "      <th></th>\n",
       "    </tr>\n",
       "  </thead>\n",
       "  <tbody>\n",
       "    <tr>\n",
       "      <th>2017-01-01</th>\n",
       "      <td>399131.94</td>\n",
       "      <td>1</td>\n",
       "      <td>0.500000</td>\n",
       "      <td>-0.866025</td>\n",
       "    </tr>\n",
       "    <tr>\n",
       "      <th>2017-01-02</th>\n",
       "      <td>545259.57</td>\n",
       "      <td>0</td>\n",
       "      <td>-0.365341</td>\n",
       "      <td>-0.930874</td>\n",
       "    </tr>\n",
       "    <tr>\n",
       "      <th>2017-01-03</th>\n",
       "      <td>557400.78</td>\n",
       "      <td>0</td>\n",
       "      <td>-0.955573</td>\n",
       "      <td>-0.294755</td>\n",
       "    </tr>\n",
       "    <tr>\n",
       "      <th>2017-01-04</th>\n",
       "      <td>557394.31</td>\n",
       "      <td>0</td>\n",
       "      <td>-0.826239</td>\n",
       "      <td>0.563320</td>\n",
       "    </tr>\n",
       "    <tr>\n",
       "      <th>2017-01-05</th>\n",
       "      <td>554266.71</td>\n",
       "      <td>0</td>\n",
       "      <td>-0.074730</td>\n",
       "      <td>0.997204</td>\n",
       "    </tr>\n",
       "    <tr>\n",
       "      <th>2017-01-06</th>\n",
       "      <td>484772.87</td>\n",
       "      <td>1</td>\n",
       "      <td>0.733052</td>\n",
       "      <td>0.680173</td>\n",
       "    </tr>\n",
       "    <tr>\n",
       "      <th>2017-01-07</th>\n",
       "      <td>448601.37</td>\n",
       "      <td>0</td>\n",
       "      <td>0.988831</td>\n",
       "      <td>-0.149042</td>\n",
       "    </tr>\n",
       "    <tr>\n",
       "      <th>2017-01-08</th>\n",
       "      <td>433151.95</td>\n",
       "      <td>0</td>\n",
       "      <td>0.500000</td>\n",
       "      <td>-0.866025</td>\n",
       "    </tr>\n",
       "    <tr>\n",
       "      <th>2017-01-09</th>\n",
       "      <td>638036.96</td>\n",
       "      <td>0</td>\n",
       "      <td>-0.365341</td>\n",
       "      <td>-0.930874</td>\n",
       "    </tr>\n",
       "    <tr>\n",
       "      <th>2017-01-10</th>\n",
       "      <td>643576.43</td>\n",
       "      <td>0</td>\n",
       "      <td>-0.955573</td>\n",
       "      <td>-0.294755</td>\n",
       "    </tr>\n",
       "  </tbody>\n",
       "</table>\n",
       "</div>"
      ],
      "text/plain": [
       "                  kWh  holidays  Week sin  Week cos\n",
       "Date                                               \n",
       "2017-01-01  399131.94         1  0.500000 -0.866025\n",
       "2017-01-02  545259.57         0 -0.365341 -0.930874\n",
       "2017-01-03  557400.78         0 -0.955573 -0.294755\n",
       "2017-01-04  557394.31         0 -0.826239  0.563320\n",
       "2017-01-05  554266.71         0 -0.074730  0.997204\n",
       "2017-01-06  484772.87         1  0.733052  0.680173\n",
       "2017-01-07  448601.37         0  0.988831 -0.149042\n",
       "2017-01-08  433151.95         0  0.500000 -0.866025\n",
       "2017-01-09  638036.96         0 -0.365341 -0.930874\n",
       "2017-01-10  643576.43         0 -0.955573 -0.294755"
      ]
     },
     "execution_count": 8,
     "metadata": {},
     "output_type": "execute_result"
    }
   ],
   "source": [
    "ts.head(10)"
   ]
  },
  {
   "cell_type": "code",
   "execution_count": 9,
   "metadata": {},
   "outputs": [
    {
     "data": {
      "text/html": [
       "<div>\n",
       "<style scoped>\n",
       "    .dataframe tbody tr th:only-of-type {\n",
       "        vertical-align: middle;\n",
       "    }\n",
       "\n",
       "    .dataframe tbody tr th {\n",
       "        vertical-align: top;\n",
       "    }\n",
       "\n",
       "    .dataframe thead th {\n",
       "        text-align: right;\n",
       "    }\n",
       "</style>\n",
       "<table border=\"1\" class=\"dataframe\">\n",
       "  <thead>\n",
       "    <tr style=\"text-align: right;\">\n",
       "      <th></th>\n",
       "      <th>kWh</th>\n",
       "      <th>holidays</th>\n",
       "      <th>Week sin</th>\n",
       "      <th>Week cos</th>\n",
       "    </tr>\n",
       "  </thead>\n",
       "  <tbody>\n",
       "    <tr>\n",
       "      <th>count</th>\n",
       "      <td>1096.000000</td>\n",
       "      <td>1096.000000</td>\n",
       "      <td>1096.000000</td>\n",
       "      <td>1096.000000</td>\n",
       "    </tr>\n",
       "    <tr>\n",
       "      <th>mean</th>\n",
       "      <td>513641.385976</td>\n",
       "      <td>0.028285</td>\n",
       "      <td>-0.001503</td>\n",
       "      <td>-0.001394</td>\n",
       "    </tr>\n",
       "    <tr>\n",
       "      <th>std</th>\n",
       "      <td>101693.964087</td>\n",
       "      <td>0.165861</td>\n",
       "      <td>0.707415</td>\n",
       "      <td>0.707442</td>\n",
       "    </tr>\n",
       "    <tr>\n",
       "      <th>min</th>\n",
       "      <td>61980.910000</td>\n",
       "      <td>0.000000</td>\n",
       "      <td>-0.955573</td>\n",
       "      <td>-0.943883</td>\n",
       "    </tr>\n",
       "    <tr>\n",
       "      <th>25%</th>\n",
       "      <td>434430.260000</td>\n",
       "      <td>0.000000</td>\n",
       "      <td>-0.826239</td>\n",
       "      <td>-0.846724</td>\n",
       "    </tr>\n",
       "    <tr>\n",
       "      <th>50%</th>\n",
       "      <td>519402.665000</td>\n",
       "      <td>0.000000</td>\n",
       "      <td>-0.111964</td>\n",
       "      <td>-0.111964</td>\n",
       "    </tr>\n",
       "    <tr>\n",
       "      <th>75%</th>\n",
       "      <td>597521.062500</td>\n",
       "      <td>0.000000</td>\n",
       "      <td>0.707107</td>\n",
       "      <td>0.680173</td>\n",
       "    </tr>\n",
       "    <tr>\n",
       "      <th>max</th>\n",
       "      <td>683808.340000</td>\n",
       "      <td>1.000000</td>\n",
       "      <td>0.993712</td>\n",
       "      <td>0.997204</td>\n",
       "    </tr>\n",
       "  </tbody>\n",
       "</table>\n",
       "</div>"
      ],
      "text/plain": [
       "                 kWh     holidays     Week sin     Week cos\n",
       "count    1096.000000  1096.000000  1096.000000  1096.000000\n",
       "mean   513641.385976     0.028285    -0.001503    -0.001394\n",
       "std    101693.964087     0.165861     0.707415     0.707442\n",
       "min     61980.910000     0.000000    -0.955573    -0.943883\n",
       "25%    434430.260000     0.000000    -0.826239    -0.846724\n",
       "50%    519402.665000     0.000000    -0.111964    -0.111964\n",
       "75%    597521.062500     0.000000     0.707107     0.680173\n",
       "max    683808.340000     1.000000     0.993712     0.997204"
      ]
     },
     "execution_count": 9,
     "metadata": {},
     "output_type": "execute_result"
    }
   ],
   "source": [
    "ts.describe()"
   ]
  },
  {
   "cell_type": "markdown",
   "metadata": {},
   "source": [
    "### Feature Vector Normalization <a class=\"anchor\" id=\"1.1.3.\"></a>\n",
    "\n",
    "Since there are big discrepancies between the scales of the different features, we need to normalize them into a common scale, without distorting the differences in the ranges of values or losing information."
   ]
  },
  {
   "cell_type": "code",
   "execution_count": 10,
   "metadata": {},
   "outputs": [],
   "source": [
    "from sklearn.preprocessing import MinMaxScaler\n",
    "\n",
    "scaler = MinMaxScaler(feature_range=(0, 1))\n",
    "scaler_kwh = MinMaxScaler(feature_range=(0, 1)).fit(ts[[\"kWh\"]])\n",
    "ts_normalized = pd.DataFrame(scaler.fit_transform(ts),\n",
    "                             columns = ts.columns.values,\n",
    "                            index = ts.index)"
   ]
  },
  {
   "cell_type": "code",
   "execution_count": 11,
   "metadata": {},
   "outputs": [
    {
     "data": {
      "text/html": [
       "<div>\n",
       "<style scoped>\n",
       "    .dataframe tbody tr th:only-of-type {\n",
       "        vertical-align: middle;\n",
       "    }\n",
       "\n",
       "    .dataframe tbody tr th {\n",
       "        vertical-align: top;\n",
       "    }\n",
       "\n",
       "    .dataframe thead th {\n",
       "        text-align: right;\n",
       "    }\n",
       "</style>\n",
       "<table border=\"1\" class=\"dataframe\">\n",
       "  <thead>\n",
       "    <tr style=\"text-align: right;\">\n",
       "      <th></th>\n",
       "      <th>kWh</th>\n",
       "      <th>holidays</th>\n",
       "      <th>Week sin</th>\n",
       "      <th>Week cos</th>\n",
       "    </tr>\n",
       "    <tr>\n",
       "      <th>Date</th>\n",
       "      <th></th>\n",
       "      <th></th>\n",
       "      <th></th>\n",
       "      <th></th>\n",
       "    </tr>\n",
       "  </thead>\n",
       "  <tbody>\n",
       "    <tr>\n",
       "      <th>2017-01-01</th>\n",
       "      <td>0.542194</td>\n",
       "      <td>1.0</td>\n",
       "      <td>7.467214e-01</td>\n",
       "      <td>0.040110</td>\n",
       "    </tr>\n",
       "    <tr>\n",
       "      <th>2017-01-02</th>\n",
       "      <td>0.777191</td>\n",
       "      <td>0.0</td>\n",
       "      <td>3.027940e-01</td>\n",
       "      <td>0.006702</td>\n",
       "    </tr>\n",
       "    <tr>\n",
       "      <th>2017-01-03</th>\n",
       "      <td>0.796716</td>\n",
       "      <td>0.0</td>\n",
       "      <td>7.915890e-14</td>\n",
       "      <td>0.334415</td>\n",
       "    </tr>\n",
       "    <tr>\n",
       "      <th>2017-01-04</th>\n",
       "      <td>0.796706</td>\n",
       "      <td>0.0</td>\n",
       "      <td>6.634947e-02</td>\n",
       "      <td>0.776474</td>\n",
       "    </tr>\n",
       "    <tr>\n",
       "      <th>2017-01-05</th>\n",
       "      <td>0.791676</td>\n",
       "      <td>0.0</td>\n",
       "      <td>4.518799e-01</td>\n",
       "      <td>1.000000</td>\n",
       "    </tr>\n",
       "    <tr>\n",
       "      <th>...</th>\n",
       "      <td>...</td>\n",
       "      <td>...</td>\n",
       "      <td>...</td>\n",
       "      <td>...</td>\n",
       "    </tr>\n",
       "    <tr>\n",
       "      <th>2019-12-28</th>\n",
       "      <td>0.689890</td>\n",
       "      <td>0.0</td>\n",
       "      <td>9.974958e-01</td>\n",
       "      <td>0.409482</td>\n",
       "    </tr>\n",
       "    <tr>\n",
       "      <th>2019-12-29</th>\n",
       "      <td>0.656454</td>\n",
       "      <td>0.0</td>\n",
       "      <td>7.467214e-01</td>\n",
       "      <td>0.040110</td>\n",
       "    </tr>\n",
       "    <tr>\n",
       "      <th>2019-12-30</th>\n",
       "      <td>0.785287</td>\n",
       "      <td>0.0</td>\n",
       "      <td>3.027940e-01</td>\n",
       "      <td>0.006702</td>\n",
       "    </tr>\n",
       "    <tr>\n",
       "      <th>2019-12-31</th>\n",
       "      <td>0.788421</td>\n",
       "      <td>0.0</td>\n",
       "      <td>4.502509e-13</td>\n",
       "      <td>0.334415</td>\n",
       "    </tr>\n",
       "    <tr>\n",
       "      <th>2020-01-01</th>\n",
       "      <td>0.689254</td>\n",
       "      <td>1.0</td>\n",
       "      <td>6.634947e-02</td>\n",
       "      <td>0.776474</td>\n",
       "    </tr>\n",
       "  </tbody>\n",
       "</table>\n",
       "<p>1096 rows × 4 columns</p>\n",
       "</div>"
      ],
      "text/plain": [
       "                 kWh  holidays      Week sin  Week cos\n",
       "Date                                                  \n",
       "2017-01-01  0.542194       1.0  7.467214e-01  0.040110\n",
       "2017-01-02  0.777191       0.0  3.027940e-01  0.006702\n",
       "2017-01-03  0.796716       0.0  7.915890e-14  0.334415\n",
       "2017-01-04  0.796706       0.0  6.634947e-02  0.776474\n",
       "2017-01-05  0.791676       0.0  4.518799e-01  1.000000\n",
       "...              ...       ...           ...       ...\n",
       "2019-12-28  0.689890       0.0  9.974958e-01  0.409482\n",
       "2019-12-29  0.656454       0.0  7.467214e-01  0.040110\n",
       "2019-12-30  0.785287       0.0  3.027940e-01  0.006702\n",
       "2019-12-31  0.788421       0.0  4.502509e-13  0.334415\n",
       "2020-01-01  0.689254       1.0  6.634947e-02  0.776474\n",
       "\n",
       "[1096 rows x 4 columns]"
      ]
     },
     "execution_count": 11,
     "metadata": {},
     "output_type": "execute_result"
    }
   ],
   "source": [
    "ts_normalized"
   ]
  },
  {
   "cell_type": "code",
   "execution_count": 12,
   "metadata": {},
   "outputs": [
    {
     "data": {
      "image/png": "[encoded data removed]",
      "text/plain": [
       "<Figure size 864x432 with 1 Axes>"
      ]
     },
     "metadata": {
      "needs_background": "light"
     },
     "output_type": "display_data"
    }
   ],
   "source": [
    "melt_plot = ts_normalized.melt(var_name='Column', value_name='Normalized value')\n",
    "plt.figure(figsize=(12, 6))\n",
    "ax = sns.violinplot(x='Column', y='Normalized value', data=melt_plot)\n",
    "_ = ax.set_xticklabels(ts_normalized.keys(), rotation=90)"
   ]
  },
  {
   "cell_type": "markdown",
   "metadata": {},
   "source": [
    "## Modeling <a class=\"anchor\" id=\"1.2.\"></a>\n",
    "\n",
    "Certainly, we need to split the dataset into train, validation, and test sets first. The test set here will be of the same time period as the one in the SARIMAX model, so we can compare the performance more easily."
   ]
  },
  {
   "cell_type": "code",
   "execution_count": 13,
   "metadata": {},
   "outputs": [
    {
     "data": {
      "text/html": [
       "<div>\n",
       "<style scoped>\n",
       "    .dataframe tbody tr th:only-of-type {\n",
       "        vertical-align: middle;\n",
       "    }\n",
       "\n",
       "    .dataframe tbody tr th {\n",
       "        vertical-align: top;\n",
       "    }\n",
       "\n",
       "    .dataframe thead th {\n",
       "        text-align: right;\n",
       "    }\n",
       "</style>\n",
       "<table border=\"1\" class=\"dataframe\">\n",
       "  <thead>\n",
       "    <tr style=\"text-align: right;\">\n",
       "      <th></th>\n",
       "      <th>kWh</th>\n",
       "      <th>holidays</th>\n",
       "      <th>Week sin</th>\n",
       "      <th>Week cos</th>\n",
       "    </tr>\n",
       "    <tr>\n",
       "      <th>Date</th>\n",
       "      <th></th>\n",
       "      <th></th>\n",
       "      <th></th>\n",
       "      <th></th>\n",
       "    </tr>\n",
       "  </thead>\n",
       "  <tbody>\n",
       "    <tr>\n",
       "      <th>2017-01-01</th>\n",
       "      <td>0.542194</td>\n",
       "      <td>1.0</td>\n",
       "      <td>7.467214e-01</td>\n",
       "      <td>4.011047e-02</td>\n",
       "    </tr>\n",
       "    <tr>\n",
       "      <th>2017-01-02</th>\n",
       "      <td>0.777191</td>\n",
       "      <td>0.0</td>\n",
       "      <td>3.027940e-01</td>\n",
       "      <td>6.702214e-03</td>\n",
       "    </tr>\n",
       "    <tr>\n",
       "      <th>2017-01-03</th>\n",
       "      <td>0.796716</td>\n",
       "      <td>0.0</td>\n",
       "      <td>7.915890e-14</td>\n",
       "      <td>3.344147e-01</td>\n",
       "    </tr>\n",
       "    <tr>\n",
       "      <th>2017-01-04</th>\n",
       "      <td>0.796706</td>\n",
       "      <td>0.0</td>\n",
       "      <td>6.634947e-02</td>\n",
       "      <td>7.764738e-01</td>\n",
       "    </tr>\n",
       "    <tr>\n",
       "      <th>2017-01-05</th>\n",
       "      <td>0.791676</td>\n",
       "      <td>0.0</td>\n",
       "      <td>4.518799e-01</td>\n",
       "      <td>1.000000e+00</td>\n",
       "    </tr>\n",
       "    <tr>\n",
       "      <th>...</th>\n",
       "      <td>...</td>\n",
       "      <td>...</td>\n",
       "      <td>...</td>\n",
       "      <td>...</td>\n",
       "    </tr>\n",
       "    <tr>\n",
       "      <th>2019-04-28</th>\n",
       "      <td>0.532413</td>\n",
       "      <td>0.0</td>\n",
       "      <td>7.631541e-01</td>\n",
       "      <td>5.005398e-02</td>\n",
       "    </tr>\n",
       "    <tr>\n",
       "      <th>2019-04-29</th>\n",
       "      <td>0.818335</td>\n",
       "      <td>0.0</td>\n",
       "      <td>3.207811e-01</td>\n",
       "      <td>2.004508e-13</td>\n",
       "    </tr>\n",
       "    <tr>\n",
       "      <th>2019-04-30</th>\n",
       "      <td>0.786616</td>\n",
       "      <td>0.0</td>\n",
       "      <td>5.996802e-03</td>\n",
       "      <td>3.161137e-01</td>\n",
       "    </tr>\n",
       "    <tr>\n",
       "      <th>2019-05-01</th>\n",
       "      <td>0.590344</td>\n",
       "      <td>1.0</td>\n",
       "      <td>5.584027e-02</td>\n",
       "      <td>7.603551e-01</td>\n",
       "    </tr>\n",
       "    <tr>\n",
       "      <th>2019-05-02</th>\n",
       "      <td>0.839399</td>\n",
       "      <td>0.0</td>\n",
       "      <td>4.327783e-01</td>\n",
       "      <td>9.982012e-01</td>\n",
       "    </tr>\n",
       "  </tbody>\n",
       "</table>\n",
       "<p>852 rows × 4 columns</p>\n",
       "</div>"
      ],
      "text/plain": [
       "                 kWh  holidays      Week sin      Week cos\n",
       "Date                                                      \n",
       "2017-01-01  0.542194       1.0  7.467214e-01  4.011047e-02\n",
       "2017-01-02  0.777191       0.0  3.027940e-01  6.702214e-03\n",
       "2017-01-03  0.796716       0.0  7.915890e-14  3.344147e-01\n",
       "2017-01-04  0.796706       0.0  6.634947e-02  7.764738e-01\n",
       "2017-01-05  0.791676       0.0  4.518799e-01  1.000000e+00\n",
       "...              ...       ...           ...           ...\n",
       "2019-04-28  0.532413       0.0  7.631541e-01  5.005398e-02\n",
       "2019-04-29  0.818335       0.0  3.207811e-01  2.004508e-13\n",
       "2019-04-30  0.786616       0.0  5.996802e-03  3.161137e-01\n",
       "2019-05-01  0.590344       1.0  5.584027e-02  7.603551e-01\n",
       "2019-05-02  0.839399       0.0  4.327783e-01  9.982012e-01\n",
       "\n",
       "[852 rows x 4 columns]"
      ]
     },
     "execution_count": 13,
     "metadata": {},
     "output_type": "execute_result"
    }
   ],
   "source": [
    "train_end = '2019-12-01'\n",
    "test_end = '2020-01-01'\n",
    "demo_start = '2019-11-25'\n",
    "\n",
    "test_df = ts_normalized[train_end:]\n",
    "train_val = ts_normalized[:train_end]\n",
    "\n",
    "n = len(train_val)\n",
    "\n",
    "train_df = train_val[:int(n*0.8)]\n",
    "val_df = train_val[int(n*0.8):]\n",
    "\n",
    "column_indices = {name: i for i, name in enumerate(ts.columns)}\n",
    "num_features = ts.shape[1]\n",
    "train_df"
   ]
  },
  {
   "cell_type": "markdown",
   "metadata": {},
   "source": [
    "In order for the LSTM to work, we need to create sliding windows from the data so that for each datapoint, its features is the window of a determined size of the past values . In this project, the width of the features vector is 28 days, or 4 weeks, while there is only one label for each window. \n",
    "\n",
    "![A window of data](data_window.png \"A window of data\")"
   ]
  },
  {
   "cell_type": "code",
   "execution_count": 14,
   "metadata": {},
   "outputs": [],
   "source": [
    "import random\n",
    "\n",
    "def split_sequence(df, fea_width=28, label_width=1, shift=1, label_col_indices=[0], randomize = True):\n",
    "    \n",
    "    \"\"\" Split sequence with sliding window into\n",
    "        sequences of context features and label.\n",
    "        Args:\n",
    "            df (DataFrame): the target time series\n",
    "            fea_width (int): Length of features vector.\n",
    "            label_width (int): Length of labels vector.\n",
    "            shift (int): Distance between the features vector and the labels one. \n",
    "            label_col_indices (list): list of the columns for the labels.\n",
    "        Return:\n",
    "            X (np.array): sequence of features\n",
    "            y (np.array): sequence of targets\n",
    "    \"\"\"\n",
    "    arr = df.to_numpy()\n",
    "\n",
    "    # Work out the label column indices.\n",
    "\n",
    "    window_size = fea_width + shift + label_width - 1\n",
    "    fea_slice = slice(0, fea_width)\n",
    "    fea_indices = np.arange(window_size)[fea_slice]\n",
    "\n",
    "    label_slice = slice(window_size - label_width, None)\n",
    "    label_indices = np.arange(window_size)[label_slice]\n",
    "    \n",
    "    \n",
    "    print(\"\\n window_size: {} \\n fea_indices: {} \\n label_indices: {}\"\n",
    "          .format(window_size,fea_indices,label_indices))\n",
    "    \n",
    "    \n",
    "    def split_window(window):\n",
    "        features = window[fea_slice]\n",
    "        labels = window[label_slice]\n",
    "#         print(label_col)\n",
    "#         print([label_col_indices[name] for name in label_col])\n",
    "        if label_col_indices is not None:\n",
    "            labels = np.stack(\n",
    "                [labels[:, label_col_indices[idx]] \n",
    "                 for idx in label_col_indices],\n",
    "                axis=-1)\n",
    "        \n",
    "        labels = labels.flatten()\n",
    "        \n",
    "        return features, labels\n",
    "            \n",
    "    n = len(arr)\n",
    "    X,y = list(),list()\n",
    "    for i in range(0, n, shift):\n",
    "        \n",
    "        window = arr[i:i+window_size]\n",
    "        if (len(window) != window_size): break\n",
    "        \n",
    "        # Find the end of this pattern:\n",
    "        features,labels = split_window(window)\n",
    "        X.append(features)\n",
    "        y.append(labels)\n",
    "        \n",
    "#     print(label_col_indices)\n",
    "#     if randomize == True:\n",
    "#         random.shuffle(X)\n",
    "#         random.shuffle(y)\n",
    "    \n",
    "    return X,y"
   ]
  },
  {
   "cell_type": "code",
   "execution_count": 15,
   "metadata": {},
   "outputs": [
    {
     "name": "stdout",
     "output_type": "stream",
     "text": [
      "\n",
      " window_size: 29 \n",
      " fea_indices: [ 0  1  2  3  4  5  6  7  8  9 10 11 12 13 14 15 16 17 18 19 20 21 22 23\n",
      " 24 25 26 27] \n",
      " label_indices: [28]\n",
      "\n",
      " window_size: 29 \n",
      " fea_indices: [ 0  1  2  3  4  5  6  7  8  9 10 11 12 13 14 15 16 17 18 19 20 21 22 23\n",
      " 24 25 26 27] \n",
      " label_indices: [28]\n",
      "\n",
      " window_size: 29 \n",
      " fea_indices: [ 0  1  2  3  4  5  6  7  8  9 10 11 12 13 14 15 16 17 18 19 20 21 22 23\n",
      " 24 25 26 27] \n",
      " label_indices: [28]\n",
      "\n",
      " window_size: 29 \n",
      " fea_indices: [ 0  1  2  3  4  5  6  7  8  9 10 11 12 13 14 15 16 17 18 19 20 21 22 23\n",
      " 24 25 26 27] \n",
      " label_indices: [28]\n"
     ]
    },
    {
     "data": {
      "text/plain": [
       "((28, 4), (1,))"
      ]
     },
     "execution_count": 15,
     "metadata": {},
     "output_type": "execute_result"
    }
   ],
   "source": [
    "fea_width, label_width, shift, label_col_indices = 28, 1, 1, [0]\n",
    "\n",
    "X_ts,y_ts = split_sequence(ts_normalized,randomize=False)\n",
    "\n",
    "X_train,y_train = split_sequence(train_df)\n",
    "X_val,y_val = split_sequence(val_df)\n",
    "X_test,y_test = split_sequence(test_df)\n",
    "\n",
    "X_train[0].shape,y_train[0].shape"
   ]
  },
  {
   "cell_type": "markdown",
   "metadata": {},
   "source": [
    "The only secondary step left is to convert the data into Pytorch Tensors."
   ]
  },
  {
   "cell_type": "code",
   "execution_count": 16,
   "metadata": {},
   "outputs": [
    {
     "data": {
      "text/plain": [
       "tensor([[[5.4219e-01, 1.0000e+00, 7.4672e-01, 4.0110e-02],\n",
       "         [7.7719e-01, 0.0000e+00, 3.0279e-01, 6.7022e-03],\n",
       "         [7.9672e-01, 0.0000e+00, 7.9159e-14, 3.3441e-01],\n",
       "         ...,\n",
       "         [9.3904e-01, 0.0000e+00, 4.5188e-01, 1.0000e+00],\n",
       "         [8.9637e-01, 0.0000e+00, 8.6628e-01, 8.3667e-01],\n",
       "         [6.2653e-01, 0.0000e+00, 9.9750e-01, 4.0948e-01]],\n",
       "\n",
       "        [[7.7719e-01, 0.0000e+00, 3.0279e-01, 6.7022e-03],\n",
       "         [7.9672e-01, 0.0000e+00, 7.9159e-14, 3.3441e-01],\n",
       "         [7.9671e-01, 0.0000e+00, 6.6349e-02, 7.7647e-01],\n",
       "         ...,\n",
       "         [8.9637e-01, 0.0000e+00, 8.6628e-01, 8.3667e-01],\n",
       "         [6.2653e-01, 0.0000e+00, 9.9750e-01, 4.0948e-01],\n",
       "         [6.0036e-01, 0.0000e+00, 7.4672e-01, 4.0110e-02]],\n",
       "\n",
       "        [[7.9672e-01, 0.0000e+00, 7.9159e-14, 3.3441e-01],\n",
       "         [7.9671e-01, 0.0000e+00, 6.6349e-02, 7.7647e-01],\n",
       "         [7.9168e-01, 0.0000e+00, 4.5188e-01, 1.0000e+00],\n",
       "         ...,\n",
       "         [6.2653e-01, 0.0000e+00, 9.9750e-01, 4.0948e-01],\n",
       "         [6.0036e-01, 0.0000e+00, 7.4672e-01, 4.0110e-02],\n",
       "         [9.3347e-01, 0.0000e+00, 3.0279e-01, 6.7022e-03]],\n",
       "\n",
       "        ...,\n",
       "\n",
       "        [[8.8622e-01, 0.0000e+00, 5.9968e-03, 3.1611e-01],\n",
       "         [8.7725e-01, 0.0000e+00, 5.5840e-02, 7.6036e-01],\n",
       "         [8.5412e-01, 0.0000e+00, 4.3278e-01, 9.9820e-01],\n",
       "         ...,\n",
       "         [5.4293e-01, 0.0000e+00, 1.0000e+00, 4.2858e-01],\n",
       "         [5.3241e-01, 0.0000e+00, 7.6315e-01, 5.0054e-02],\n",
       "         [8.1834e-01, 0.0000e+00, 3.2078e-01, 2.0045e-13]],\n",
       "\n",
       "        [[8.7725e-01, 0.0000e+00, 5.5840e-02, 7.6036e-01],\n",
       "         [8.5412e-01, 0.0000e+00, 4.3278e-01, 9.9820e-01],\n",
       "         [8.4356e-01, 0.0000e+00, 8.5297e-01, 8.5055e-01],\n",
       "         ...,\n",
       "         [5.3241e-01, 0.0000e+00, 7.6315e-01, 5.0054e-02],\n",
       "         [8.1834e-01, 0.0000e+00, 3.2078e-01, 2.0045e-13],\n",
       "         [7.8662e-01, 0.0000e+00, 5.9968e-03, 3.1611e-01]],\n",
       "\n",
       "        [[8.5412e-01, 0.0000e+00, 4.3278e-01, 9.9820e-01],\n",
       "         [8.4356e-01, 0.0000e+00, 8.5297e-01, 8.5055e-01],\n",
       "         [5.8030e-01, 0.0000e+00, 1.0000e+00, 4.2858e-01],\n",
       "         ...,\n",
       "         [8.1834e-01, 0.0000e+00, 3.2078e-01, 2.0045e-13],\n",
       "         [7.8662e-01, 0.0000e+00, 5.9968e-03, 3.1611e-01],\n",
       "         [5.9034e-01, 1.0000e+00, 5.5840e-02, 7.6036e-01]]], device='cuda:0')"
      ]
     },
     "execution_count": 16,
     "metadata": {},
     "output_type": "execute_result"
    }
   ],
   "source": [
    "def to_tensor(ls):\n",
    "    return Variable(torch.cuda.FloatTensor(np.array(ls)))\n",
    "\n",
    "X_ts,y_ts = to_tensor(X_ts),to_tensor(y_ts)\n",
    "\n",
    "X_train,y_train = to_tensor(X_train),to_tensor(y_train)\n",
    "X_val,y_val = to_tensor(X_val),to_tensor(y_val)\n",
    "X_test = to_tensor(X_test)\n",
    "\n",
    "X_train"
   ]
  },
  {
   "cell_type": "markdown",
   "metadata": {},
   "source": [
    "We now can finally get to building the neural network! Our model has 2 hidden LSTM layers with 512 neurons each. The input and output layers has 4 and 1 nodes, respectively, which corresponds to the shape of the features and labels vector. The Adam optimizer is used, and the learning rate is dynamically modified using a scheduler."
   ]
  },
  {
   "cell_type": "code",
   "execution_count": 17,
   "metadata": {},
   "outputs": [],
   "source": [
    "from fastprogress import master_bar, progress_bar\n",
    "from torch.utils.data import Dataset\n",
    "from sklearn.metrics import mean_squared_error\n",
    "from torch.autograd import Variable\n",
    "\n",
    "import torch\n",
    "import torch\n",
    "import torch.nn as nn"
   ]
  },
  {
   "cell_type": "code",
   "execution_count": 18,
   "metadata": {},
   "outputs": [],
   "source": [
    "class LSTM(nn.Module):\n",
    "\n",
    "    def __init__(self, num_classes, input_size, hidden_size, num_layers):\n",
    "        super(LSTM, self).__init__()\n",
    "        \n",
    "        self.num_classes = num_classes\n",
    "        self.num_layers = num_layers\n",
    "        self.input_size = input_size\n",
    "        self.hidden_size = hidden_size\n",
    "        \n",
    "        self.batch_size = 1\n",
    "        #self.seq_length = seq_length\n",
    "        self.LSTM = nn.LSTM(input_size=input_size, hidden_size=hidden_size, num_layers=num_layers,batch_first=True,dropout = 0.25)\n",
    "        \n",
    "        \n",
    "        \n",
    "        self.fc = nn.Linear(hidden_size, num_classes)\n",
    "        self.dropout = nn.Dropout(p=0.2)\n",
    "    def forward(self, x):\n",
    "        h_1 = Variable(torch.zeros(\n",
    "            self.num_layers, x.size(0), self.hidden_size).cuda())\n",
    "         \n",
    "        \n",
    "        c_1 = Variable(torch.zeros(\n",
    "            self.num_layers, x.size(0), self.hidden_size).cuda())\n",
    "        \n",
    "       \n",
    "        _, (hn, cn) = self.LSTM(x, (h_1, c_1))\n",
    "     \n",
    "        #print(\"hidden state shpe is:\",hn.size())\n",
    "        y = hn.view(-1, self.hidden_size)\n",
    "        \n",
    "        final_state = hn.view(self.num_layers, x.size(0), self.hidden_size)[-1]\n",
    "        #print(\"final state shape is:\",final_state.shape)\n",
    "        out = self.fc(final_state)\n",
    "        #out = self.dropout(out)\n",
    "        #print(out.size())\n",
    "        return out\n",
    "\n",
    "def init_weights(m):\n",
    "    for name, param in m.named_parameters():\n",
    "        nn.init.uniform_(param.data, -0.08, 0.08)\n",
    "        \n",
    "num_epochs = 350\n",
    "learning_rate = 1e-3\n",
    "input_size = 4\n",
    "hidden_size = 512\n",
    "num_layers = 2\n",
    "\n",
    "num_classes = 1\n",
    "\n",
    "model = LSTM(num_classes, input_size, hidden_size, num_layers)\n",
    "model.cuda()\n",
    "\n",
    "\n",
    "model.apply(init_weights)\n",
    "\n",
    "criterion = torch.nn.MSELoss().cuda()    # Will be transformed to root mean-squared error for regression\n",
    "optimizer = torch.optim.Adam(model.parameters(), lr=learning_rate,weight_decay=1e-5)\n",
    "scheduler = torch.optim.lr_scheduler.ReduceLROnPlateau(optimizer,  patience=100, factor =0.5 ,min_lr=1e-7, eps=1e-08)"
   ]
  },
  {
   "cell_type": "code",
   "execution_count": 19,
   "metadata": {},
   "outputs": [
    {
     "data": {
      "text/html": [
       "\n",
       "    <div>\n",
       "        <style>\n",
       "            /* Turns off some styling */\n",
       "            progress {\n",
       "                /* gets rid of default border in Firefox and Opera. */\n",
       "                border: none;\n",
       "                /* Needs to be in here for Safari polyfill so background images work as expected. */\n",
       "                background-size: auto;\n",
       "            }\n",
       "            .progress-bar-interrupted, .progress-bar-interrupted::-webkit-progress-bar {\n",
       "                background: #F44336;\n",
       "            }\n",
       "        </style>\n",
       "      <progress value='350' class='' max='350' style='width:300px; height:20px; vertical-align: middle;'></progress>\n",
       "      100.00% [350/350 01:41<00:00]\n",
       "    </div>\n",
       "    "
      ],
      "text/plain": [
       "<IPython.core.display.HTML object>"
      ]
     },
     "metadata": {},
     "output_type": "display_data"
    },
    {
     "name": "stdout",
     "output_type": "stream",
     "text": [
      "Epoch: 1, loss: 0.66936 validation loss:  0.17561 \n",
      "Epoch: 21, loss: 0.10947 validation loss:  0.08660 \n",
      "Epoch: 41, loss: 0.10266 validation loss:  0.08062 \n",
      "Epoch: 61, loss: 0.09978 validation loss:  0.07446 \n",
      "Epoch: 81, loss: 0.09691 validation loss:  0.07439 \n",
      "Epoch: 101, loss: 0.08863 validation loss:  0.06301 \n",
      "Epoch: 121, loss: 0.08381 validation loss:  0.04544 \n",
      "Epoch: 141, loss: 0.07602 validation loss:  0.03849 \n",
      "Epoch: 161, loss: 0.07377 validation loss:  0.03512 \n",
      "Epoch: 181, loss: 0.07201 validation loss:  0.03611 \n",
      "Epoch: 201, loss: 0.07127 validation loss:  0.03537 \n",
      "Epoch: 221, loss: 0.06585 validation loss:  0.03407 \n",
      "Epoch: 241, loss: 0.06035 validation loss:  0.03204 \n",
      "Epoch: 261, loss: 0.05059 validation loss:  0.04811 \n",
      "Epoch: 281, loss: 0.04645 validation loss:  0.02620 \n",
      "Epoch: 301, loss: 0.04903 validation loss:  0.03526 \n",
      "Epoch: 321, loss: 0.04480 validation loss:  0.03639 \n",
      "Epoch: 341, loss: 0.04446 validation loss:  0.02677 \n",
      "Final: \n",
      "Epoch: 350, loss: 0.04426 validation loss:  0.02916 \n"
     ]
    }
   ],
   "source": [
    "for epoch in progress_bar(range(1,num_epochs+1)):\n",
    "    model.train()\n",
    "    optimizer.zero_grad()\n",
    "    y_pred = model(X_train)\n",
    "    \n",
    "    loss = torch.sqrt(criterion(y_pred, y_train))\n",
    "    loss.backward()\n",
    "    \n",
    "    optimizer.step()\n",
    "    \n",
    "    model.eval()\n",
    "    valid = model(X_val)\n",
    "    val_loss = torch.sqrt(criterion(valid, y_val))\n",
    "    scheduler.step(val_loss)\n",
    "    \n",
    "    if epoch%20 == 1:\n",
    "        print(\"Epoch: %d, loss: %1.5f validation loss:  %1.5f \" \n",
    "              %(epoch, loss.item(),val_loss.item()))\n",
    "\n",
    "print(\"Final: \\nEpoch: %d, loss: %1.5f validation loss:  %1.5f \" \n",
    "              %(epoch, loss.item(),val_loss.item()))"
   ]
  },
  {
   "cell_type": "markdown",
   "metadata": {},
   "source": [
    "So far, so good. Now we need to check the error of the model on the test set without normalization. "
   ]
  },
  {
   "cell_type": "code",
   "execution_count": 23,
   "metadata": {},
   "outputs": [
    {
     "name": "stdout",
     "output_type": "stream",
     "text": [
      "The root mean squared error of the model is 70543.07\n"
     ]
    }
   ],
   "source": [
    "from sklearn.metrics import mean_squared_error\n",
    "\n",
    "model.eval()\n",
    "\n",
    "## Inverse Normalize \n",
    "y_test_pred = scaler_kwh.inverse_transform(model(X_test).cpu().detach().numpy())\n",
    "y_test_obs = scaler_kwh.inverse_transform(y_test)\n",
    "\n",
    "print('The root mean squared error of the model is ' +\n",
    "      str(round(np.sqrt(mean_squared_error(y_test_obs,y_test_pred)),2)))"
   ]
  },
  {
   "cell_type": "markdown",
   "metadata": {},
   "source": [
    "This is only a marginal improvement over the SARIMAX model. In fact, we can see that the LSTM model performs worse than the classical method after accounting for the far greater level of complexity of the Deep Neural Networks. This is in agreement with the literature on time series forecasting, with deep learning methods having not delivered on their promises.\n",
    "\n",
    "Nevertheless, we can further examine the fitness of the model on the data by visualizing the results, starting with the all the data available."
   ]
  },
  {
   "cell_type": "code",
   "execution_count": 24,
   "metadata": {},
   "outputs": [
    {
     "data": {
      "text/plain": [
       "Text(0, 0.5, 'kWh')"
      ]
     },
     "execution_count": 24,
     "metadata": {},
     "output_type": "execute_result"
    },
    {
     "data": {
      "image/png": "[encoded data removed]",
      "text/plain": [
       "<Figure size 864x504 with 1 Axes>"
      ]
     },
     "metadata": {
      "needs_background": "light"
     },
     "output_type": "display_data"
    }
   ],
   "source": [
    "y_pred = scaler_kwh.inverse_transform(model(X_ts).cpu().detach().numpy())\n",
    "y_obs = scaler_kwh.inverse_transform(y_ts.cpu().numpy())\n",
    "\n",
    "pred_df = pd.DataFrame(y_pred,index = ts.index[-len(y_pred):],columns = [\"kWh\"])\n",
    "obs_df = pd.DataFrame(y_obs,index = ts.index[-len(y_pred):],columns = [\"kWh\"])\n",
    "\n",
    "fig, ax = plt.subplots()\n",
    "plot_df = pd.concat([obs_df,pred_df],axis=1)\n",
    "plot_df.plot(ax=ax,figsize=(12,7),style = 'o', grid=True)\n",
    "ax.legend([\"Observed\", \"Forecasts\"])\n",
    "ax.set_title(\"Energy Consumption 2017-2019\")\n",
    "ax.set_ylabel(\"kWh\")"
   ]
  },
  {
   "cell_type": "markdown",
   "metadata": {},
   "source": [
    "The forecasts appear to fit the observed values well, but is worse than that of the SARIMA with consistent under-prediction of the max values. Let us look at the prediction on the test set compare it with that of the SARIMAX."
   ]
  },
  {
   "cell_type": "code",
   "execution_count": 25,
   "metadata": {},
   "outputs": [
    {
     "data": {
      "text/plain": [
       "Text(0, 0.5, 'kWh')"
      ]
     },
     "execution_count": 25,
     "metadata": {},
     "output_type": "execute_result"
    },
    {
     "data": {
      "image/png": "[encoded data removed]",
      "text/plain": [
       "<Figure size 864x504 with 1 Axes>"
      ]
     },
     "metadata": {
      "needs_background": "light"
     },
     "output_type": "display_data"
    }
   ],
   "source": [
    "fig, ax = plt.subplots()\n",
    "plot_df.loc[train_end:].plot(ax = ax, figsize=(12,7), grid=True)\n",
    "\n",
    "ax.legend([\"Observed\", \"Forecasts\"])\n",
    "ax.set_title(\"Energy Consumption December 2019\")\n",
    "ax.set_ylabel(\"kWh\")"
   ]
  },
  {
   "cell_type": "markdown",
   "metadata": {},
   "source": [
    "Despite better fitness during some time points, the model consistently under-predict the values by a wide margin. Concerning the holiday period, the forecasts still have the same defects as that of the SARIMAX model.\n",
    "\n",
    "In conclusion, even though the presented models have presented reasonable accuracy, time series forecasting still presents many challenges. That said, this is still a very active research area, offering much improvement in the future."
   ]
  },
  {
   "cell_type": "markdown",
   "metadata": {},
   "source": [
    "# Further Readings <a class=\"anchor\" id=\"2.\"></a>\n",
    "\n",
    "* [Hyndman, R.J., & Athanasopoulos, G. (2018) Forecasting: principles and practice, 2nd edition. *OTexts: Melbourne, Australia*](https://otexts.com/fpp2/)\n",
    "* [Shumway, R., & Stoffer, D. (2017). Time Series Analysis and Its Applications. *Springer Texts In Statistics*. https://doi.org/10.1007/978-3-319-52452-8](https://www.springer.com/gp/book/9783319524511)\n",
    "*[SARIMAX: Introduction. *Statsmodels.org. (2021)*. Retrieved 17 January 2021.](https://www.statsmodels.org/dev/examples/notebooks/generated/statespace_sarimax_stata.html.)\n",
    "* [NIST/SEMATECH e-Handbook of Statistical Methods. Retrieved 17 January 2021.](https://www.itl.nist.gov/div898/handbook/pmc/section4/pmc445.htm)\n",
    "* [Time series forecasting: TensorFlow Core.](https://www.tensorflow.org/tutorials/structured_data/time_series#feature_engineering)\n",
    "* [Zhang, G. (2012). Neural Networks for Time-Series Forecasting. *Handbook of Natural Computing*, 461–477.](https://link.springer.com/referenceworkentry/10.1007%2F978-3-540-92910-9_14#citeas)"
   ]
  }
 ],
 "metadata": {
  "kernelspec": {
   "display_name": "Python 3",
   "language": "python",
   "name": "python3"
  },
  "language_info": {
   "codemirror_mode": {
    "name": "ipython",
    "version": 3
   },
   "file_extension": ".py",
   "mimetype": "text/x-python",
   "name": "python",
   "nbconvert_exporter": "python",
   "pygments_lexer": "ipython3",
   "version": "3.8.5"
  }
 },
 "nbformat": 4,
 "nbformat_minor": 4
}
